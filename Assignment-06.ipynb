{
 "cells": [
  {
   "cell_type": "markdown",
   "metadata": {},
   "source": [
    "## Assignment # 6 (Solution)"
   ]
  },
  {
   "cell_type": "markdown",
   "metadata": {},
   "source": [
    "## Enrolment No. SMIT/19/PY/B2/02738\n",
    "## Roll No. PY02738\n",
    "## Name: MUHAMMAD IDREES\n",
    "## Email: idrees.math@hotmail.com"
   ]
  },
  {
   "cell_type": "markdown",
   "metadata": {},
   "source": [
    "##### Question1:\n",
    "\n",
    "Define Object Oriented Programming Language?"
   ]
  },
  {
   "cell_type": "markdown",
   "metadata": {},
   "source": [
    "<b>The concept of Object-Oriented Programming is common in almost all popular programming languages (Python, C++, Java) with common idea but different syntax. Object-Oriented Programming is just a style/way to write programs and manage the code in an easy way and most effective approaches to writing software as well as it is very helpful in creating real world projects. </b>"
   ]
  },
  {
   "cell_type": "markdown",
   "metadata": {},
   "source": [
    "##### Question2:\n",
    "\n",
    "List down the Benefits of OOP?"
   ]
  },
  {
   "cell_type": "markdown",
   "metadata": {},
   "source": [
    "<b>Some Benefits of OOP are\n",
    "1. The complexity of code can be managed easily.\n",
    "2. It is very helpful in creating real world projects.\n",
    "3. Easy to understand the complex code.\n",
    "4. Reusability of code in a project.\n",
    "5. Through inheritance, we can eliminate code and extend the use of existing classes.</b>"
   ]
  },
  {
   "cell_type": "markdown",
   "metadata": {},
   "source": [
    "##### Question3:\n",
    "\n",
    "Differentiate between function and method?"
   ]
  },
  {
   "cell_type": "markdown",
   "metadata": {},
   "source": [
    "<b>A function is a block of code to carry out a specific task, will contain its own scope and is called by name. While a method in python is somewhat similar to a function, except it is associated with object/classes. </b>"
   ]
  },
  {
   "cell_type": "markdown",
   "metadata": {},
   "source": [
    "##### Question4:\n",
    "\n",
    "Define the following terms: \n",
    "1. Class \n",
    "2. Object \n",
    "3. Attribute \n",
    "4. Behavior"
   ]
  },
  {
   "cell_type": "markdown",
   "metadata": {},
   "source": [
    "<b>1. Class: In object-oriented programming, a class is a blueprint for creating objects (a data structure), providing initial values for state (member variables or attributes), and implementations of behavior (member functions or methods).\n",
    "For Example, the list in python is blueprint of creating list objects.</b>\n",
    "<br/><br/>\n",
    "\n",
    "<b>2. Object: In object-oriented programming (OOP), objects are the things you think about first in designing a program, each object is made into a generic class of object. Each object is an instance of a class or subclass with the class's own methods or procedures and data variables.\n",
    "For Example, from list class python we can create objects like l = [1,2,3,4], l = [‘a’, ‘b’, ‘c’, TRUE]</b>\n",
    "<br/><br/>\n",
    "\n",
    "<b>3. Attribute: The attributes are data members (class variables and instance variables) and methods, accessed via dot notation.</b>\n",
    "<br/><br/>\n",
    "\n",
    "<b>4. Behavior: A class's behavior determines how an instance of that class operates.</b>\n"
   ]
  },
  {
   "cell_type": "markdown",
   "metadata": {},
   "source": [
    "##### Question5:\n",
    "\n",
    "Write a code in python in which create a class named it Car which have 5 attributes such like (model, color and name etc.) and 3 methods. And create 5 object instance from that class."
   ]
  },
  {
   "cell_type": "code",
   "execution_count": 26,
   "metadata": {},
   "outputs": [
    {
     "name": "stdout",
     "output_type": "stream",
     "text": [
      "2018 BMW ROYAL SPEED\n",
      "This car has 0 miles on it\n",
      "2016 Vitz BLAZE\n",
      "The car is running 100 miles\n"
     ]
    }
   ],
   "source": [
    "class Car():\n",
    "    def __init__(self,model,color,name,year,price):\n",
    "        self.model = model\n",
    "        self.color = color\n",
    "        self.name = name\n",
    "        self.year = year\n",
    "        self.price = price\n",
    "        self.odometer_reading = 0\n",
    "        \n",
    "    def full_name(self):\n",
    "        print(str(self.year) + \" \" + self.name + \" \" + self.model.upper())\n",
    "    \n",
    "    def read_odometer(self):\n",
    "        print(\"This car has\" +  \" \" + str(self.odometer_reading) + \" miles on it\")\n",
    "        \n",
    "    def update_odometer(self,miles):\n",
    "        self.odometer_reading = miles\n",
    "        print(\"The car is running \" + str(miles) +  \" miles\")\n",
    "        \n",
    "car_1 = Car(\"VX4\", \"White\", \"Suzuki\", 2009, 1200000)\n",
    "car_2 = Car(\"2-OD\", \"Gray\", \"Toyota\", 2015, 24000000)\n",
    "car_3 = Car(\"Blaze\", \"Black\", \"Vitz\", 2016, 19000000)\n",
    "car_4 = Car(\"Vagon-R\", \"Blue\", \"Honda\", 2013, 2200000)\n",
    "car_5 = Car(\"Royal Speed\", \"Red\", \"BMW\", 2018, 250000000)\n",
    "\n",
    "car_5.full_name()\n",
    "car_1.read_odometer()\n",
    "car_3.full_name()\n",
    "car_3.update_odometer(100)"
   ]
  }
 ],
 "metadata": {
  "kernelspec": {
   "display_name": "Python 3",
   "language": "python",
   "name": "python3"
  },
  "language_info": {
   "codemirror_mode": {
    "name": "ipython",
    "version": 3
   },
   "file_extension": ".py",
   "mimetype": "text/x-python",
   "name": "python",
   "nbconvert_exporter": "python",
   "pygments_lexer": "ipython3",
   "version": "3.7.3"
  }
 },
 "nbformat": 4,
 "nbformat_minor": 2
}
