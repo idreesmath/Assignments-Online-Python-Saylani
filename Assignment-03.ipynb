{
 "cells": [
  {
   "cell_type": "markdown",
   "metadata": {},
   "source": [
    "## Assignment # 3 (Solution)"
   ]
  },
  {
   "cell_type": "markdown",
   "metadata": {},
   "source": [
    "## Enrolment No. SMIT/19/PY/B2/02738\n",
    "## Roll No. PY02738\n",
    "## Name: MUHAMMAD IDREES\n",
    "## Email: idrees.math@hotmail.com"
   ]
  },
  {
   "cell_type": "markdown",
   "metadata": {},
   "source": [
    "## 1. Make a calculator using Python with addition, subtraction, multiplication, division and power."
   ]
  },
  {
   "cell_type": "code",
   "execution_count": 7,
   "metadata": {},
   "outputs": [
    {
     "name": "stdout",
     "output_type": "stream",
     "text": [
      "Enter First Number: 4\n",
      "Enter Second Number: 5\n",
      "Enter Operation Addition: +, Subtraction: -, Multiplication: *, Division: / and Power: **\n",
      "**\n",
      "The Power of 4.0 and 5.0: 1024.0\n"
     ]
    }
   ],
   "source": [
    "num1 = float(input(\"Enter First Number: \"))\n",
    "num2 = float(input(\"Enter Second Number: \"))\n",
    "print(\"Enter Operation Addition: +, Subtraction: -, Multiplication: *, Division: / and Power: **\")\n",
    "opr = input()\n",
    "\n",
    "if opr == \"+\":\n",
    "    print(f\"The Sum of {num1} and {num2}: {num1 + num2}\")\n",
    "elif opr == \"-\":\n",
    "    print(f\"The Subtarction of {num1} and {num2}: {num1 - num2}\")\n",
    "elif opr == \"*\":\n",
    "    print(f\"The Multiplication of {num1} and {num2}: {num1 * num2}\")\n",
    "elif opr == \"/\":\n",
    "    print(f\"The Division of {num1} and {num2}: {num1 / num2}\")\n",
    "elif opr == \"**\":\n",
    "    print(f\"The Power of {num1} and {num2}: {num1 ** num2}\")\n",
    "else:\n",
    "    print(\"Invalid Operation\")"
   ]
  },
  {
   "cell_type": "markdown",
   "metadata": {},
   "source": [
    "## 2. Write a program to check if there is any numeric value in list using for loop."
   ]
  },
  {
   "cell_type": "code",
   "execution_count": 13,
   "metadata": {},
   "outputs": [
    {
     "name": "stdout",
     "output_type": "stream",
     "text": [
      "List has 3 Numeric Values\n"
     ]
    }
   ],
   "source": [
    "l = ['a', 4, 'b', 'c', 10.0, 3]\n",
    "\n",
    "counter = 0\n",
    "for item in l:\n",
    "    if type(item) == int or type(item) == float:\n",
    "        counter += 1\n",
    "\n",
    "print(f\"List has {counter} Numeric Values\")"
   ]
  },
  {
   "cell_type": "markdown",
   "metadata": {},
   "source": [
    "## 3. Write a Python script to add a key to a dictionary."
   ]
  },
  {
   "cell_type": "code",
   "execution_count": 3,
   "metadata": {},
   "outputs": [
    {
     "name": "stdout",
     "output_type": "stream",
     "text": [
      "Enter Your Name: Muhammad Idrees\n",
      "Enter Your Age: 42\n",
      "{'Name': 'Muhammad Idrees', 'Age': 42}\n"
     ]
    }
   ],
   "source": [
    "name = input(\"Enter Your Name: \")\n",
    "age = int(input(\"Enter Your Age: \"))\n",
    "\n",
    "user_info = {}\n",
    "\n",
    "# Adding Keys of Name and Age to a dictionary \n",
    "user_info[\"Name\"] = name\n",
    "user_info['Age'] = age\n",
    "\n",
    "print(user_info)"
   ]
  },
  {
   "cell_type": "markdown",
   "metadata": {},
   "source": [
    "## 4. Write a Python program to sum all the numeric items in a dictionary."
   ]
  },
  {
   "cell_type": "code",
   "execution_count": 1,
   "metadata": {},
   "outputs": [
    {
     "name": "stdout",
     "output_type": "stream",
     "text": [
      "The Sum of all numeric items :  150\n"
     ]
    }
   ],
   "source": [
    "d = {'num1':10, 'num2':20, 'num3':30, 'num4':40, 'num5':50}\n",
    "\n",
    "total = 0\n",
    "\n",
    "for item in d:\n",
    "    total += d[item]\n",
    "\n",
    "print(\"The Sum of all numeric items : \",total)"
   ]
  },
  {
   "cell_type": "markdown",
   "metadata": {},
   "source": [
    "## 5. Write a program to identify duplicate values from list."
   ]
  },
  {
   "cell_type": "code",
   "execution_count": 6,
   "metadata": {},
   "outputs": [
    {
     "name": "stdout",
     "output_type": "stream",
     "text": [
      "[2, 2, 5, 5, 7, 7, 7, 11, 11]\n"
     ]
    }
   ],
   "source": [
    "l = [1,2,2,3,4,5,5,6,7,7,7,8,9,10,11,11,12]\n",
    "\n",
    "duplicates = []\n",
    "for nums in l:\n",
    "    if l.count(nums) > 1:\n",
    "        duplicates.append(nums)\n",
    "\n",
    "print(duplicates)"
   ]
  },
  {
   "cell_type": "markdown",
   "metadata": {},
   "source": [
    "## 6. Write a Python script to check if a given key already exists in a dictionary."
   ]
  },
  {
   "cell_type": "code",
   "execution_count": 9,
   "metadata": {},
   "outputs": [
    {
     "name": "stdout",
     "output_type": "stream",
     "text": [
      "Enter Key: abc\n",
      "Your Entered Key is Already Present\n"
     ]
    }
   ],
   "source": [
    "d = {'abc':1, 'ijk':2, 'uvw':3, 'xyz':4}\n",
    "\n",
    "check_key = input(\"Enter Key: \")\n",
    "if check_key in d.keys():\n",
    "    print(\"Your Entered Key is Already Present\")\n",
    "else:\n",
    "    print(\"Your Entered Key is NOT Present\")"
   ]
  },
  {
   "cell_type": "code",
   "execution_count": 10,
   "metadata": {},
   "outputs": [
    {
     "name": "stdout",
     "output_type": "stream",
     "text": [
      "Enter Key: abcd\n",
      "Your Entered Key is NOT Present\n"
     ]
    }
   ],
   "source": [
    "d = {'abc':1, 'ijk':2, 'uvw':3, 'xyz':4}\n",
    "\n",
    "check_key = input(\"Enter Key: \")\n",
    "if check_key in d.keys():\n",
    "    print(\"Your Entered Key is Already Present\")\n",
    "else:\n",
    "    print(\"Your Entered Key is NOT Present\")"
   ]
  },
  {
   "cell_type": "code",
   "execution_count": null,
   "metadata": {},
   "outputs": [],
   "source": []
  }
 ],
 "metadata": {
  "kernelspec": {
   "display_name": "Python 3",
   "language": "python",
   "name": "python3"
  },
  "language_info": {
   "codemirror_mode": {
    "name": "ipython",
    "version": 3
   },
   "file_extension": ".py",
   "mimetype": "text/x-python",
   "name": "python",
   "nbconvert_exporter": "python",
   "pygments_lexer": "ipython3",
   "version": "3.7.3"
  }
 },
 "nbformat": 4,
 "nbformat_minor": 2
}
