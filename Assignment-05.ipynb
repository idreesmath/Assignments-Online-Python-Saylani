{
 "cells": [
  {
   "cell_type": "markdown",
   "metadata": {},
   "source": [
    "## Assignment # 5 (Solution)"
   ]
  },
  {
   "cell_type": "markdown",
   "metadata": {},
   "source": [
    "## Enrolment No. SMIT/19/PY/B2/02738\n",
    "## Roll No. PY02738\n",
    "## Name: MUHAMMAD IDREES\n",
    "## Email: idrees.math@hotmail.com"
   ]
  },
  {
   "cell_type": "markdown",
   "metadata": {},
   "source": [
    "##### Question1:\n",
    "\n",
    "Write a Python function to calculate the factorial of a number (a non-negative integer). The function accepts the number as an argument."
   ]
  },
  {
   "cell_type": "code",
   "execution_count": 10,
   "metadata": {},
   "outputs": [
    {
     "name": "stdout",
     "output_type": "stream",
     "text": [
      "Enter a non-negative interger: 5\n",
      "The Factorial of 5 is 120\n"
     ]
    }
   ],
   "source": [
    "user_input = int(input(\"Enter a non-negative interger: \"))\n",
    "\n",
    "def factorial(n):\n",
    "    total = 1\n",
    "    if n >= 0:\n",
    "        for number in range(1,n+1):\n",
    "            total *= number\n",
    "        return f\"The Factorial of {n} is {total}\"\n",
    "    else:\n",
    "        return \"Invalid Input Integer\"\n",
    "\n",
    "print(factorial(user_input))"
   ]
  },
  {
   "cell_type": "markdown",
   "metadata": {},
   "source": [
    "##### Question2:\n",
    "\n",
    "Write a Python function that accepts a string and calculate the number of upper case letters and lower case letters."
   ]
  },
  {
   "cell_type": "code",
   "execution_count": 41,
   "metadata": {},
   "outputs": [
    {
     "name": "stdout",
     "output_type": "stream",
     "text": [
      "Number of Upper Letters = 2\n",
      "Number of Lower Letters = 4\n"
     ]
    }
   ],
   "source": [
    "upper_lower_string = \"aBcdEf\"\n",
    "\n",
    "def count_upper_lower(string):\n",
    "    lower_count = 0\n",
    "    upper_count = 0\n",
    "    for letters in string:\n",
    "        if letters.islower():\n",
    "            lower_count += 1\n",
    "        elif letters.isupper():\n",
    "            upper_count += 1\n",
    "    return f\"Number of Upper Letters = {upper_count}\\nNumber of Lower Letters = {lower_count}\"\n",
    "\n",
    "print(count_upper_lower(upper_lower_string))"
   ]
  },
  {
   "cell_type": "markdown",
   "metadata": {},
   "source": [
    "##### Question3:\n",
    "\n",
    "Write a Python function to print the even numbers from a given list."
   ]
  },
  {
   "cell_type": "code",
   "execution_count": 17,
   "metadata": {},
   "outputs": [
    {
     "name": "stdout",
     "output_type": "stream",
     "text": [
      "The even numbers are [2, 6, 8, 10, 12]\n"
     ]
    }
   ],
   "source": [
    "# Method 1\n",
    "\n",
    "user_list = [1,3,2,6,8,10,5,7,12]\n",
    "\n",
    "def even_numbers(l):\n",
    "    even_list = []\n",
    "    for numbers in l:\n",
    "        if numbers%2 == 0:\n",
    "            even_list.append(numbers)\n",
    "    return f\"The even numbers are {even_list}\"\n",
    "\n",
    "print(even_numbers(user_list))"
   ]
  },
  {
   "cell_type": "code",
   "execution_count": 31,
   "metadata": {},
   "outputs": [
    {
     "name": "stdout",
     "output_type": "stream",
     "text": [
      "Even Numbers are: 2 6 8 10 12 "
     ]
    }
   ],
   "source": [
    "# Method 2\n",
    "\n",
    "user_list = [1,3,2,6,8,10,5,7,12]\n",
    "\n",
    "def even_numbers(l):\n",
    "    for numbers in l:\n",
    "        if numbers%2 == 0:\n",
    "            print(f\"{numbers}\", end = \" \" )\n",
    "\n",
    "print(\"Even Numbers are:\", end = \" \")\n",
    "even_numbers(user_list)"
   ]
  },
  {
   "cell_type": "markdown",
   "metadata": {},
   "source": [
    "##### Question4:\n",
    "\n",
    "Write a Python function that checks whether a passed string is palindrome or not. <br>\n",
    "Note: A palindrome is a word, phrase, or sequence that reads the same \n",
    "backward as forward, e.g., madam"
   ]
  },
  {
   "cell_type": "code",
   "execution_count": 36,
   "metadata": {},
   "outputs": [
    {
     "name": "stdout",
     "output_type": "stream",
     "text": [
      "Enter a Word: madam\n",
      "The given word madam is Palindrome\n"
     ]
    }
   ],
   "source": [
    "user_input = input(\"Enter a Word: \")\n",
    "\n",
    "def palindrome(word):\n",
    "    if word == word[::-1]:\n",
    "        return f\"The given word {word} is Palindrome\"\n",
    "    else:\n",
    "        return \"Not Palindrome\"\n",
    "\n",
    "print(palindrome(user_input))"
   ]
  },
  {
   "cell_type": "markdown",
   "metadata": {},
   "source": [
    "##### Question5:\n",
    "\n",
    "Write a Python function that takes a number as a parameter and check the number is prime or not."
   ]
  },
  {
   "cell_type": "code",
   "execution_count": 48,
   "metadata": {},
   "outputs": [
    {
     "name": "stdout",
     "output_type": "stream",
     "text": [
      "Enter the Number : 3\n",
      "3 is a prime number\n"
     ]
    }
   ],
   "source": [
    "user_number = int(input(\"Enter the Number : \"))\n",
    "\n",
    "def is_prime(number):\n",
    "    remainder = 1\n",
    "    if number != 0:\n",
    "        for i in range(1,number):\n",
    "            if i > 1 and (number % i) == 0:\n",
    "                remainder = 0\n",
    "        if remainder == 0 or number == 1:\n",
    "            print(number, \"is not prime number\")\n",
    "        else:\n",
    "            print(number, \"is a prime number\")\n",
    "    else:\n",
    "        print(number, \"is Invalid number\")\n",
    "\n",
    "is_prime(user_number)"
   ]
  },
  {
   "cell_type": "markdown",
   "metadata": {},
   "source": [
    "##### Question6:\n",
    "\n",
    "Suppose a customer is shopping in a market and you need to print all the items which user bought from market.<br>\n",
    "Write a function which accepts the multiple arguments of user shopping list and print all the items which user bought from market. "
   ]
  },
  {
   "cell_type": "code",
   "execution_count": 57,
   "metadata": {},
   "outputs": [
    {
     "name": "stdout",
     "output_type": "stream",
     "text": [
      "List Shopping Items:\n",
      "\n",
      "Milk\n",
      "Soap\n",
      "Coffee\n",
      "Butter\n",
      "Rice\n",
      "Jam\n"
     ]
    }
   ],
   "source": [
    "shopping_list = [\"Milk\", \"Soap\", \"Coffee\", \"Butter\", \"Rice\", \"Jam\"]\n",
    "\n",
    "def shopping_items(*args):\n",
    "    for items in args:\n",
    "        print(f\"{items}\")\n",
    "\n",
    "print(\"List Shopping Items:\\n\")\n",
    "shopping_items(*shopping_list)"
   ]
  },
  {
   "cell_type": "code",
   "execution_count": null,
   "metadata": {},
   "outputs": [],
   "source": []
  }
 ],
 "metadata": {
  "kernelspec": {
   "display_name": "Python 3",
   "language": "python",
   "name": "python3"
  },
  "language_info": {
   "codemirror_mode": {
    "name": "ipython",
    "version": 3
   },
   "file_extension": ".py",
   "mimetype": "text/x-python",
   "name": "python",
   "nbconvert_exporter": "python",
   "pygments_lexer": "ipython3",
   "version": "3.7.3"
  }
 },
 "nbformat": 4,
 "nbformat_minor": 2
}
