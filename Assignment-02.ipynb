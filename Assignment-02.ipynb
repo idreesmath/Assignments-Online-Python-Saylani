{
 "cells": [
  {
   "cell_type": "markdown",
   "metadata": {},
   "source": [
    "## Assignment # 2 (Solution)"
   ]
  },
  {
   "cell_type": "markdown",
   "metadata": {},
   "source": [
    "## Enrolment No. SMIT/19/PY/B2/02738\n",
    "## Roll No. PY02738\n",
    "## Name: MUHAMMAD IDREES\n",
    "## Email: idrees.math@hotmail.com"
   ]
  },
  {
   "cell_type": "markdown",
   "metadata": {},
   "source": [
    "## 1. Write a program which takes 5 inputs from user for different subject’s marks, total it and generate mark sheet using grades?"
   ]
  },
  {
   "cell_type": "code",
   "execution_count": 11,
   "metadata": {},
   "outputs": [
    {
     "name": "stdout",
     "output_type": "stream",
     "text": [
      "Enter Your Mathematics Marks: 95\n",
      "Enter Your Physics Marks: 88\n",
      "Enter Your Chemistry Marks: 76\n",
      "Enter Your English Marks: 77\n",
      "Enter Your Urdu Marks: 65\n",
      "=============================================\n",
      "\t\t Result Card\n",
      "=============================================\n",
      "Subject\t\t Obt. Marks\tTotal Marks\n",
      "Mathematics\t95.0\t\t100\n",
      "Physics\t\t88.0\t\t100\n",
      "Chemistry\t76.0\t\t100\n",
      "English\t\t77.0\t\t100\n",
      "Urdu\t\t65.0\t\t100\n",
      "\n",
      "\n",
      "Obtained Markes:  401.0\n",
      "Total Marks  500\n",
      "Percentage  80.2\n",
      "Grade: A\n"
     ]
    }
   ],
   "source": [
    "math = float(input(\"Enter Your Mathematics Marks: \"))\n",
    "phy = float(input(\"Enter Your Physics Marks: \"))\n",
    "chem = float(input(\"Enter Your Chemistry Marks: \"))\n",
    "eng = float(input(\"Enter Your English Marks: \"))\n",
    "urdu = float(input(\"Enter Your Urdu Marks: \"))\n",
    "\n",
    "obtained_marks = math + phy + chem + eng + urdu\n",
    "percentage = (obtained_marks*100)/500\n",
    "\n",
    "\n",
    "\n",
    "print(\"=\" * 45)\n",
    "print(\"\\t\\t Result Card\")\n",
    "print(\"=\" * 45)\n",
    "print(\"Subject\" + \"\\t\\t Obt. Marks\" + \"\\tTotal Marks\")\n",
    "print(\"Mathematics\" + \"\\t\" + str(math) + \"\\t\\t100\")\n",
    "print(\"Physics\" + \"\\t\\t\" + str(phy) + \"\\t\\t100\")\n",
    "print(\"Chemistry\" + \"\\t\" + str(chem) + \"\\t\\t100\")\n",
    "print(\"English\" + \"\\t\\t\" + str(eng) + \"\\t\\t100\")\n",
    "print(\"Urdu\" + \"\\t\\t\" + str(urdu) + \"\\t\\t100\")\n",
    "print(\"\\n\")\n",
    "print(\"Obtained Markes: \" + \" \" + str(obtained_marks))\n",
    "print(\"Total Marks \" + \" \" + \"500\")\n",
    "print(\"Percentage \" + \" \" + str(percentage))\n",
    "if percentage >= 85:\n",
    "    print(\"Grade: A+\")\n",
    "elif 70 <= percentage < 85:\n",
    "    print(\"Grade: A\")\n",
    "elif 65 <= percentage < 70:\n",
    "    print(\"Grade: B\")\n",
    "elif 60 <= percentage < 65:\n",
    "    print(\"Grade: C\")\n",
    "else:\n",
    "    print(\"Grade: D\")"
   ]
  },
  {
   "cell_type": "markdown",
   "metadata": {},
   "source": [
    "## 2. Write a program which take input from user and identify that the given number is even or odd? "
   ]
  },
  {
   "cell_type": "code",
   "execution_count": 12,
   "metadata": {},
   "outputs": [
    {
     "name": "stdout",
     "output_type": "stream",
     "text": [
      "Enter Your Number: 4\n",
      "Your input number  4 is Even\n"
     ]
    }
   ],
   "source": [
    "user_number = int(input(\"Enter Your Number: \"))\n",
    "\n",
    "if user_number%2 == 0:\n",
    "    print(\"Your input number \" + \" \" + str(user_number) + \" \" + \"is Even\")\n",
    "else:\n",
    "    print(\"Your input number \" + \" \" + str(user_number) + \" \" + \"is Odd\")"
   ]
  },
  {
   "cell_type": "markdown",
   "metadata": {},
   "source": [
    "## 3. Write a program which print the length of the list?"
   ]
  },
  {
   "cell_type": "code",
   "execution_count": 14,
   "metadata": {},
   "outputs": [
    {
     "name": "stdout",
     "output_type": "stream",
     "text": [
      "The Length of List is 9\n"
     ]
    }
   ],
   "source": [
    "my_list = [3,2,4,5,2,6,7,6,8]\n",
    "\n",
    "print(\"The Length of List is \" + str(len(my_list)))"
   ]
  },
  {
   "cell_type": "markdown",
   "metadata": {},
   "source": [
    "## 4. Write a Python program to sum all the numeric items in a list? "
   ]
  },
  {
   "cell_type": "code",
   "execution_count": 21,
   "metadata": {},
   "outputs": [
    {
     "name": "stdout",
     "output_type": "stream",
     "text": [
      "The Sum is : 43\n"
     ]
    }
   ],
   "source": [
    "my_list = [3,2,4,5,2,6,7,6,8]\n",
    "\n",
    "print(\"The Sum is :\",sum(my_list))"
   ]
  },
  {
   "cell_type": "code",
   "execution_count": 20,
   "metadata": {},
   "outputs": [
    {
     "name": "stdout",
     "output_type": "stream",
     "text": [
      "The Sum is : 43\n"
     ]
    }
   ],
   "source": [
    "# Second Method\n",
    "my_list = [3,2,4,5,2,6,7,6,8]\n",
    "\n",
    "total = 0\n",
    "for item in my_list:\n",
    "    total += item\n",
    "print(\"The Sum is :\",total)"
   ]
  },
  {
   "cell_type": "markdown",
   "metadata": {},
   "source": [
    "## 5. Write a Python program to get the largest number from a numeric list."
   ]
  },
  {
   "cell_type": "code",
   "execution_count": 24,
   "metadata": {},
   "outputs": [
    {
     "name": "stdout",
     "output_type": "stream",
     "text": [
      "The Largest Number is List:  8\n"
     ]
    }
   ],
   "source": [
    "my_list = [3,2,4,5,2,6,7,6,8]\n",
    "\n",
    "print(\"The Largest Number is List: \",max(my_list))"
   ]
  },
  {
   "cell_type": "markdown",
   "metadata": {},
   "source": [
    "## 6. Take a list, say for example this one: \n",
    "a = [1, 1, 2, 3, 5, 8, 13, 21, 34, 55, 89]\n",
    "## and write a program that prints out all the elements of the list that are less than 5."
   ]
  },
  {
   "cell_type": "code",
   "execution_count": 28,
   "metadata": {},
   "outputs": [
    {
     "name": "stdout",
     "output_type": "stream",
     "text": [
      "[1, 1, 2, 3]\n"
     ]
    }
   ],
   "source": [
    "# First Method\n",
    "\n",
    "a = [1, 1, 2, 3, 5, 8, 13, 21, 34, 55, 89]\n",
    "\n",
    "less_than_5 = []\n",
    "for item in a:\n",
    "    if item < 5:\n",
    "        less_than_5.append(item)\n",
    "\n",
    "print(less_than_5)"
   ]
  },
  {
   "cell_type": "code",
   "execution_count": 29,
   "metadata": {},
   "outputs": [
    {
     "name": "stdout",
     "output_type": "stream",
     "text": [
      "1\n",
      "1\n",
      "2\n",
      "3\n"
     ]
    }
   ],
   "source": [
    "# Second Method\n",
    "\n",
    "a = [1, 1, 2, 3, 5, 8, 13, 21, 34, 55, 89]\n",
    "\n",
    "for item in a:\n",
    "    if item < 5:\n",
    "        print(item)"
   ]
  },
  {
   "cell_type": "code",
   "execution_count": null,
   "metadata": {},
   "outputs": [],
   "source": []
  }
 ],
 "metadata": {
  "kernelspec": {
   "display_name": "Python 3",
   "language": "python",
   "name": "python3"
  },
  "language_info": {
   "codemirror_mode": {
    "name": "ipython",
    "version": 3
   },
   "file_extension": ".py",
   "mimetype": "text/x-python",
   "name": "python",
   "nbconvert_exporter": "python",
   "pygments_lexer": "ipython3",
   "version": "3.7.3"
  }
 },
 "nbformat": 4,
 "nbformat_minor": 2
}
