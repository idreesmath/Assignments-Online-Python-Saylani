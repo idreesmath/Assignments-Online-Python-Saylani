{
 "cells": [
  {
   "cell_type": "markdown",
   "metadata": {},
   "source": [
    "## Assignment # 4 (Solution)"
   ]
  },
  {
   "cell_type": "markdown",
   "metadata": {},
   "source": [
    "## Enrolment No. SMIT/19/PY/B2/02738\n",
    "## Roll No. PY02738\n",
    "## Name: MUHAMMAD IDREES\n",
    "## Email: idrees.math@hotmail.com"
   ]
  },
  {
   "cell_type": "markdown",
   "metadata": {},
   "source": [
    "##### Question1:\n",
    "Use a dictionary to store information about a person you know. Store their first name, last name, age, and the city in which they live. You should have keys such as first_name, last_name, age, and city. Print each piece of information stored in your dictionary. Add a new key value pair about qualification then update the qualification value to high academic level then delete it."
   ]
  },
  {
   "cell_type": "code",
   "execution_count": 73,
   "metadata": {},
   "outputs": [
    {
     "name": "stdout",
     "output_type": "stream",
     "text": [
      "FIRST_NAME : Waqas\n",
      "LAST_NAME : Ali\n",
      "AGE : 24\n",
      "CITY : Quetta\n",
      "QUALIFICATION : MBA (Marketing)\n",
      "\n",
      "\n",
      "FIRST_NAME : Waqas\n",
      "LAST_NAME : Ali\n",
      "AGE : 24\n",
      "CITY : Quetta\n"
     ]
    }
   ],
   "source": [
    "person_info = {\n",
    "    'first_name' : 'Waqas',\n",
    "    'last_name' : 'Ali',\n",
    "    'age' : 24,\n",
    "    'city' : 'Quetta'\n",
    "}\n",
    "\n",
    "more_info = {\n",
    "    'qualification' : \"MBA (Marketing)\"\n",
    "}\n",
    "\n",
    "# Add qualification key:value as update()\n",
    "person_info.update(more_info)\n",
    "\n",
    "for key, value in person_info.items():\n",
    "    print(f\"{key.upper()} : {value}\")\n",
    "\n",
    "print(\"\\n\")\n",
    "\n",
    "# Delete qualification key:value as pop()    \n",
    "person_info.pop('qualification')\n",
    "\n",
    "for key, value in person_info.items():\n",
    "    print(f\"{key.upper()} : {value}\")"
   ]
  },
  {
   "cell_type": "markdown",
   "metadata": {},
   "source": [
    "##### Question2:\n",
    "Make a dictionary called cities. Use the names of three cities as keys in your dictionary. Create a dictionary of information about each city and include the country that the city is in, its approximate population, and one fact about that city. The keys for each city’s dictionary should be something like country, population, and fact. Print the name of each city and all of the information you have stored about it."
   ]
  },
  {
   "cell_type": "code",
   "execution_count": 62,
   "metadata": {},
   "outputs": [
    {
     "name": "stdout",
     "output_type": "stream",
     "text": [
      "City: QUETTA\n",
      " Country: Pakistan\n",
      " Population: 3000000 \n",
      " Fact: City of Meat Food \n",
      "\n",
      "City: BEIJING\n",
      " Country: China\n",
      " Population: 21542000 \n",
      " Fact: One of the Oldest Cities in the World \n",
      "\n",
      "City: TEHRAN\n",
      " Country: Iran\n",
      " Population: 9033000 \n",
      " Fact: Highest Peak of Iran \n",
      "\n"
     ]
    }
   ],
   "source": [
    "cities = {\n",
    "    \"Quetta\" : {\"Country\":\"Pakistan\", \"Population\":3000000, \"Fact\":\"City of Meat Food\"},\n",
    "    \"Beijing\" : {\"Country\":\"China\", \"Population\":21542000, \"Fact\":\"One of the Oldest Cities in the World\"},\n",
    "    \"Tehran\" : {\"Country\":\"Iran\", \"Population\":9033000, \"Fact\":\"Highest Peak of Iran\"}\n",
    "}\n",
    "\n",
    "for key,value in cities.items():\n",
    "    print(f\"City: {key.upper()}\\n Country: {value['Country']}\\n Population: {value['Population']} \\n Fact: {value['Fact']} \\n\")"
   ]
  },
  {
   "cell_type": "markdown",
   "metadata": {},
   "source": [
    "##### Question3:\n",
    "A movie theater charges different ticket prices depending on a person’s age. If a person is under the age of 3, the ticket is free; if they are between 3 and 12, the ticket is dollor 10 and if they are over age 12, the ticket is $ 15. Write a loop in which you ask users their age, and then tell them the cost of their movie ticket."
   ]
  },
  {
   "cell_type": "code",
   "execution_count": 46,
   "metadata": {},
   "outputs": [
    {
     "name": "stdout",
     "output_type": "stream",
     "text": [
      "Enter Your Age: 7\n",
      "Ticket Price: $10\n"
     ]
    }
   ],
   "source": [
    "age = int(input(\"Enter Your Age: \"))\n",
    "if age <= 0:\n",
    "    print(\"Invalid Age\")\n",
    "elif 0 < age <= 3:\n",
    "    print(\"Ticket Price: FREE\")\n",
    "elif 3 < age <= 12:\n",
    "    print(\"Ticket Price: $10\")\n",
    "else:\n",
    "    print(\"Ticket Price: $15\")"
   ]
  },
  {
   "cell_type": "markdown",
   "metadata": {},
   "source": [
    "##### Question4:\n",
    "Write a function called favorite_book() that accepts one parameter, title. The function should print a message, such as One of my favorite books is Alice in Wonderland. Call the function, making sure to include a book title as an argument in the function call."
   ]
  },
  {
   "cell_type": "code",
   "execution_count": 47,
   "metadata": {},
   "outputs": [
    {
     "name": "stdout",
     "output_type": "stream",
     "text": [
      "My Favorite Book is Alice in Wonderland\n"
     ]
    }
   ],
   "source": [
    "# Solution - 1\n",
    "\n",
    "def favorite_book(title):\n",
    "    return f\"My Favorite Book is {title}\"\n",
    "\n",
    "print(favorite_book(\"Alice in Wonderland\"))"
   ]
  },
  {
   "cell_type": "code",
   "execution_count": 49,
   "metadata": {},
   "outputs": [
    {
     "name": "stdout",
     "output_type": "stream",
     "text": [
      "Enter Favorite Book Title: Imran Series\n",
      "My Favorite Book is Imran Series\n"
     ]
    }
   ],
   "source": [
    "# Solution - 2\n",
    "\n",
    "user_book_title = input(\"Enter Favorite Book Title: \")\n",
    "\n",
    "def favorite_book(title):\n",
    "    return f\"My Favorite Book is {title}\"\n",
    "\n",
    "print(favorite_book(user_book_title))"
   ]
  },
  {
   "cell_type": "markdown",
   "metadata": {},
   "source": [
    "##### Question5:\n",
    "Write a program which randomly generate a number between 1 to 30 and ask the user in input field to guess the correct number. Give three chances to user guess the number and also give hint to user if hidden number is greater or smaller than the number he given to input field."
   ]
  },
  {
   "cell_type": "code",
   "execution_count": 113,
   "metadata": {},
   "outputs": [
    {
     "name": "stdout",
     "output_type": "stream",
     "text": [
      "Enter the guess number between 1 to 30: 3\n",
      "SORRY! Your Guess is Samller...\n",
      "Guess Again: 2\n",
      "SORRY! Your Guess is Samller...\n",
      "Guess Again: 4\n",
      "You have Used All Three Chances\n",
      "SORRY! Your Guess is Samller...\n",
      "Guess Again: 6\n"
     ]
    }
   ],
   "source": [
    "import random\n",
    "winning_number = random.randint(1,30)\n",
    "\n",
    "counter = 1\n",
    "user_guess = int(input(\"Enter the guess number between 1 to 30: \"))\n",
    "while counter <= 3:\n",
    "    if user_guess == winning_number:\n",
    "        print(\"You WIN!\")\n",
    "        print(f\"You guessed the number in {counter} times\")\n",
    "        break\n",
    "    elif user_guess > winning_number:\n",
    "        print(\"SORRY! Your Guess is greater...\")\n",
    "        user_guess = int(input(\"Guess Again: \"))\n",
    "        counter += 1\n",
    "    else:\n",
    "        print(\"SORRY! Your Guess is Samller...\")\n",
    "        user_guess = int(input(\"Guess Again: \"))\n",
    "        counter += 1\n",
    "        \n",
    "    if counter == 3:\n",
    "        print(\"You have Used All Three Chances\")"
   ]
  },
  {
   "cell_type": "markdown",
   "metadata": {},
   "source": []
  }
 ],
 "metadata": {
  "kernelspec": {
   "display_name": "Python 3",
   "language": "python",
   "name": "python3"
  },
  "language_info": {
   "codemirror_mode": {
    "name": "ipython",
    "version": 3
   },
   "file_extension": ".py",
   "mimetype": "text/x-python",
   "name": "python",
   "nbconvert_exporter": "python",
   "pygments_lexer": "ipython3",
   "version": "3.7.3"
  }
 },
 "nbformat": 4,
 "nbformat_minor": 2
}
